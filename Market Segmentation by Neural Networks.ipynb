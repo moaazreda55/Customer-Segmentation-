{
 "cells": [
  {
   "cell_type": "markdown",
   "id": "06b2108f",
   "metadata": {},
   "source": [
    "# My Libraries"
   ]
  },
  {
   "cell_type": "code",
   "execution_count": null,
   "id": "cbea0568",
   "metadata": {},
   "outputs": [],
   "source": [
    "import numpy as np\n",
    "import pandas as pd\n",
    "import matplotlib.pyplot as plt\n",
    "import seaborn as sns\n",
    "import plotly.express as px\n",
    "import warnings\n",
    "warnings.filterwarnings(\"ignore\")\n",
    "import datetime as dt"
   ]
  },
  {
   "cell_type": "markdown",
   "id": "c72b5887",
   "metadata": {},
   "source": [
    "# Data Wrangling"
   ]
  },
  {
   "cell_type": "code",
   "execution_count": null,
   "id": "0e744604",
   "metadata": {
    "scrolled": true
   },
   "outputs": [],
   "source": [
    "df=pd.read_excel('D:/sql/Data set/Retail/Online Retail.xlsx')\n",
    "df.head()"
   ]
  },
  {
   "cell_type": "markdown",
   "id": "c8bcd36c",
   "metadata": {},
   "source": [
    "# Data Preparing"
   ]
  },
  {
   "cell_type": "markdown",
   "id": "207fd390",
   "metadata": {},
   "source": [
    "## changing all 0 unit price to the mode price for every category"
   ]
  },
  {
   "cell_type": "code",
   "execution_count": null,
   "id": "3e671a20",
   "metadata": {
    "scrolled": false
   },
   "outputs": [],
   "source": [
    "zero_G=df.loc[(df['UnitPrice']==0)&(df['CustomerID'].notnull()==True),['Description']]"
   ]
  },
  {
   "cell_type": "code",
   "execution_count": null,
   "id": "9244fd44",
   "metadata": {},
   "outputs": [],
   "source": [
    "a=list(zero_G['Description'])"
   ]
  },
  {
   "cell_type": "code",
   "execution_count": null,
   "id": "6de3f334",
   "metadata": {},
   "outputs": [],
   "source": [
    "for i in a:\n",
    "    \n",
    "    description_match = df['Description'] == i\n",
    "    mode_price = df[description_match]['UnitPrice'].mode().iloc[0]\n",
    "    df.loc[description_match & (df['UnitPrice'] == 0), 'UnitPrice'] = mode_price"
   ]
  },
  {
   "cell_type": "markdown",
   "id": "ebc334b9",
   "metadata": {},
   "source": [
    "## adding total price column"
   ]
  },
  {
   "cell_type": "code",
   "execution_count": null,
   "id": "a6695bb9",
   "metadata": {},
   "outputs": [],
   "source": [
    "df['TotalPrice']=df['UnitPrice']*df['Quantity']"
   ]
  },
  {
   "cell_type": "code",
   "execution_count": null,
   "id": "8d7a2f52",
   "metadata": {},
   "outputs": [],
   "source": [
    "df.info()"
   ]
  },
  {
   "cell_type": "markdown",
   "id": "b1af04bc",
   "metadata": {},
   "source": [
    "# Data Cleaning"
   ]
  },
  {
   "cell_type": "markdown",
   "id": "e49251df",
   "metadata": {},
   "source": [
    "## Removing non customer & cancelled transactions"
   ]
  },
  {
   "cell_type": "code",
   "execution_count": null,
   "id": "6cc03ca9",
   "metadata": {
    "scrolled": true
   },
   "outputs": [],
   "source": [
    "df2=df.loc[(df['Quantity']>0)&(df['CustomerID'].notnull()==True)]"
   ]
  },
  {
   "cell_type": "code",
   "execution_count": null,
   "id": "a1d4e072",
   "metadata": {},
   "outputs": [],
   "source": [
    "df2.info()"
   ]
  },
  {
   "cell_type": "code",
   "execution_count": null,
   "id": "e1931e96",
   "metadata": {
    "scrolled": true
   },
   "outputs": [],
   "source": [
    "pd.DataFrame(df2.apply(lambda col: len(col.unique())),columns=[\"Unique Values Count\"])"
   ]
  },
  {
   "cell_type": "markdown",
   "id": "69e178fb",
   "metadata": {},
   "source": [
    "## droping unimportant feature"
   ]
  },
  {
   "cell_type": "code",
   "execution_count": null,
   "id": "9f9ab5ae",
   "metadata": {},
   "outputs": [],
   "source": [
    "df2.drop(['InvoiceNo','Description'],axis=1,inplace=True)"
   ]
  },
  {
   "cell_type": "code",
   "execution_count": null,
   "id": "d75c5944",
   "metadata": {},
   "outputs": [],
   "source": [
    "df2['StockCode'] = df2['StockCode'].astype(str)\n",
    "df2['Country'] = df2['Country'].astype(str)"
   ]
  },
  {
   "cell_type": "code",
   "execution_count": null,
   "id": "134922be",
   "metadata": {},
   "outputs": [],
   "source": [
    "df2.info()"
   ]
  },
  {
   "cell_type": "code",
   "execution_count": null,
   "id": "120b28e1",
   "metadata": {
    "scrolled": true
   },
   "outputs": [],
   "source": [
    "pd.DataFrame(df2.apply(lambda col: len(col.unique())),columns=[\"Unique Values Count\"])"
   ]
  },
  {
   "cell_type": "code",
   "execution_count": null,
   "id": "a3780740",
   "metadata": {},
   "outputs": [],
   "source": [
    "df['InvoiceDate'].max()"
   ]
  },
  {
   "cell_type": "code",
   "execution_count": null,
   "id": "b9a95a2d",
   "metadata": {},
   "outputs": [],
   "source": [
    "today_date = dt.datetime(2011, 12, 9)"
   ]
  },
  {
   "cell_type": "code",
   "execution_count": null,
   "id": "caf8087a",
   "metadata": {},
   "outputs": [],
   "source": [
    "df2['InvoiceDate'] = (today_date - df2['InvoiceDate']).dt.days"
   ]
  },
  {
   "cell_type": "code",
   "execution_count": null,
   "id": "592395f1",
   "metadata": {
    "scrolled": true
   },
   "outputs": [],
   "source": [
    "print(df2.isnull().sum())"
   ]
  },
  {
   "cell_type": "code",
   "execution_count": null,
   "id": "ab66f867",
   "metadata": {},
   "outputs": [],
   "source": [
    "df2.duplicated().sum()"
   ]
  },
  {
   "cell_type": "code",
   "execution_count": null,
   "id": "2745230c",
   "metadata": {},
   "outputs": [],
   "source": [
    "df2.drop_duplicates(inplace = True)"
   ]
  },
  {
   "cell_type": "code",
   "execution_count": null,
   "id": "e4ae3b9e",
   "metadata": {
    "scrolled": true
   },
   "outputs": [],
   "source": [
    "import tensorflow as tf\n",
    "from sklearn.model_selection import train_test_split\n",
    "from sklearn import preprocessing\n",
    "from sklearn.preprocessing import LabelEncoder\n",
    "from sklearn.preprocessing import StandardScaler"
   ]
  },
  {
   "cell_type": "code",
   "execution_count": null,
   "id": "267eb537",
   "metadata": {},
   "outputs": [],
   "source": [
    "label_encoder = LabelEncoder()\n",
    "df2['StockCode'] = label_encoder.fit_transform(df2['StockCode'])\n",
    "df2['Country'] = label_encoder.fit_transform(df2['Country'])\n"
   ]
  },
  {
   "cell_type": "markdown",
   "id": "36641f2c",
   "metadata": {},
   "source": [
    "## grouping customer data"
   ]
  },
  {
   "cell_type": "code",
   "execution_count": null,
   "id": "a839f3fd",
   "metadata": {
    "scrolled": true
   },
   "outputs": [],
   "source": [
    "customer_data = df2.groupby('CustomerID').agg({'InvoiceDate': lambda date: date.min(),\n",
    "                                    'Quantity': lambda num: num.sum(),\n",
    "                                    'TotalPrice': lambda num: num.sum(),\n",
    "                                    'Country': lambda num: num.mode()})                                  \n",
    "customer_data"
   ]
  },
  {
   "cell_type": "code",
   "execution_count": null,
   "id": "cca76719",
   "metadata": {
    "scrolled": true
   },
   "outputs": [],
   "source": [
    "customer_data.reset_index(inplace=True)\n",
    "customer_data"
   ]
  },
  {
   "cell_type": "markdown",
   "id": "3ec46290",
   "metadata": {},
   "source": [
    "## Removing outliers"
   ]
  },
  {
   "cell_type": "code",
   "execution_count": null,
   "id": "057e2e0d",
   "metadata": {},
   "outputs": [],
   "source": [
    "Q1 = customer_data.quantile(0.25)\n",
    "Q3 = customer_data.quantile(0.75)\n",
    "IQR = Q3 - Q1\n",
    "outliers = ((customer_data < (Q1 - 1.5 * IQR)) | (customer_data > (Q3 + 1.5 * IQR))).any(axis=1)\n",
    "cleaned_data = customer_data[~outliers]"
   ]
  },
  {
   "cell_type": "code",
   "execution_count": null,
   "id": "b596dc33",
   "metadata": {
    "scrolled": true
   },
   "outputs": [],
   "source": [
    "correlation_matrix = df2.corr()\n",
    "sns.heatmap(correlation_matrix, annot=True)\n",
    "plt.show()"
   ]
  },
  {
   "cell_type": "code",
   "execution_count": null,
   "id": "2fa8349d",
   "metadata": {
    "scrolled": false
   },
   "outputs": [],
   "source": [
    "cleaned_data"
   ]
  },
  {
   "cell_type": "code",
   "execution_count": null,
   "id": "274f2fe5",
   "metadata": {},
   "outputs": [],
   "source": [
    "print(customer_data.isnull().sum())"
   ]
  },
  {
   "cell_type": "code",
   "execution_count": null,
   "id": "e1748ea6",
   "metadata": {},
   "outputs": [],
   "source": []
  },
  {
   "cell_type": "markdown",
   "id": "87f2fcda",
   "metadata": {},
   "source": [
    "# Customer Segmentation by Neural Networks"
   ]
  },
  {
   "cell_type": "code",
   "execution_count": null,
   "id": "2acb9c34",
   "metadata": {},
   "outputs": [],
   "source": [
    "X=cleaned_data.drop(['CustomerID'],axis=1)\n",
    "y=cleaned_data['CustomerID']\n",
    "y.head()"
   ]
  },
  {
   "cell_type": "code",
   "execution_count": null,
   "id": "d666f14c",
   "metadata": {},
   "outputs": [],
   "source": [
    "X_train,X_test,y_train,y_test=train_test_split(X,y,test_size=0.3)"
   ]
  },
  {
   "cell_type": "code",
   "execution_count": null,
   "id": "61d7a9aa",
   "metadata": {
    "scrolled": true
   },
   "outputs": [],
   "source": [
    "X_train=X_train.astype(np.float32)\n",
    "X_test=X_test.astype(np.float32)"
   ]
  },
  {
   "cell_type": "code",
   "execution_count": null,
   "id": "002d2788",
   "metadata": {},
   "outputs": [],
   "source": [
    "cleaned_data=cleaned_data.astype(np.float32)"
   ]
  },
  {
   "cell_type": "code",
   "execution_count": null,
   "id": "a57868f3",
   "metadata": {},
   "outputs": [],
   "source": [
    "from keras.layers import Input, Dense\n",
    "from keras.models import Model\n",
    "\n",
    "\n",
    "input_layer = Input(shape=(4,))\n",
    "encoded = Dense(4, activation='relu')(input_layer)\n",
    "decoded = Dense(4, activation='sigmoid')(encoded)\n",
    "\n",
    "autoencoder = Model(input_layer,decoded)\n",
    "autoencoder.compile(optimizer='sgd', loss='mse')\n"
   ]
  },
  {
   "cell_type": "code",
   "execution_count": null,
   "id": "3e9631c5",
   "metadata": {},
   "outputs": [],
   "source": [
    "autoencoder.fit(X,y, epochs=100, batch_size=256, shuffle=True, validation_split=0.3)"
   ]
  },
  {
   "cell_type": "code",
   "execution_count": null,
   "id": "4b10ad8f",
   "metadata": {},
   "outputs": [],
   "source": [
    "encoder = Model(input_layer, encoded)"
   ]
  },
  {
   "cell_type": "code",
   "execution_count": null,
   "id": "7d6f564e",
   "metadata": {},
   "outputs": [],
   "source": [
    "compressed_data = encoder.predict(X)"
   ]
  },
  {
   "cell_type": "code",
   "execution_count": null,
   "id": "083aac89",
   "metadata": {},
   "outputs": [],
   "source": [
    "from sklearn.cluster import KMeans\n",
    "\n",
    "kmeans = KMeans(n_clusters=3)\n",
    "clusters = kmeans.fit_predict(compressed_data)"
   ]
  },
  {
   "cell_type": "code",
   "execution_count": null,
   "id": "249f5ea0",
   "metadata": {
    "scrolled": true
   },
   "outputs": [],
   "source": [
    "cleaned_data['Segment'] = clusters\n",
    "\n",
    "for cluster in np.unique(clusters):\n",
    "    print(f\"Cluster {cluster}:\")\n",
    "    print(cleaned_data[cleaned_data['Segment'] == cluster].describe())"
   ]
  },
  {
   "cell_type": "markdown",
   "id": "fb933e8f",
   "metadata": {},
   "source": [
    "# EDA after Segmentation"
   ]
  },
  {
   "cell_type": "code",
   "execution_count": null,
   "id": "86c491da",
   "metadata": {},
   "outputs": [],
   "source": [
    "segment1 = cleaned_data[cleaned_data['Segment'] == 0]\n",
    "segment2 = cleaned_data[cleaned_data['Segment'] == 1]\n",
    "segment3 = cleaned_data[cleaned_data['Segment'] == 2]\n",
    "# segment4 = cleaned_data[cleaned_data['Segment'] == 3]\n",
    "plt.scatter(x=segment1['Quantity'], y=segment1['TotalPrice'], label=0, color='blue')\n",
    "plt.scatter(x=segment2['Quantity'], y=segment2['TotalPrice'], label=1, color='red')\n",
    "plt.scatter(x=segment3['Quantity'], y=segment3['TotalPrice'], label=2, color='yellow')\n",
    "# plt.scatter(x=segment4['Quantity'], y=segment4['TotalPrice'], label=3, color='green')\n",
    "plt.xlabel('Quantity')\n",
    "plt.ylabel('TotalPrice')\n",
    "plt.legend()\n",
    "\n",
    "plt.show()"
   ]
  },
  {
   "cell_type": "code",
   "execution_count": null,
   "id": "81c77e5d",
   "metadata": {},
   "outputs": [],
   "source": [
    "customer_seg = cleaned_data[['Segment','InvoiceDate','Quantity','TotalPrice']].groupby('Segment').agg(['count','mean','max','sum'])\n",
    "customer_seg"
   ]
  },
  {
   "cell_type": "code",
   "execution_count": null,
   "id": "d3d7828a",
   "metadata": {
    "scrolled": true
   },
   "outputs": [],
   "source": [
    "customer_seg.sort_values(by=('TotalPrice','sum'), ascending=False)"
   ]
  },
  {
   "cell_type": "code",
   "execution_count": null,
   "id": "665212a0",
   "metadata": {
    "scrolled": true
   },
   "outputs": [],
   "source": [
    "customer_seg['TotalPrice']['sum'][2],customer_seg['TotalPrice']['sum'][0],customer_seg['TotalPrice']['sum'][1]"
   ]
  },
  {
   "cell_type": "code",
   "execution_count": null,
   "id": "f8efb931",
   "metadata": {},
   "outputs": [],
   "source": [
    "cleaned_data[cleaned_data['Segment'] == cluster].describe()"
   ]
  },
  {
   "cell_type": "markdown",
   "id": "9fccabd7",
   "metadata": {},
   "source": [
    "# Conclusions\n",
    "## segment 1 are 63% of all customers & 28% of all quantity & 28% of all profits\n",
    "## segment 0 are 25% of all customers & 38% of all quantity & 37% of all profits\n",
    "## segment 2 are 12% of all customers & 34% of all quantity & 35% of all profits\n"
   ]
  },
  {
   "cell_type": "code",
   "execution_count": null,
   "id": "ce8249f5",
   "metadata": {},
   "outputs": [],
   "source": []
  },
  {
   "cell_type": "code",
   "execution_count": null,
   "id": "be7c43d5",
   "metadata": {},
   "outputs": [],
   "source": []
  },
  {
   "cell_type": "code",
   "execution_count": null,
   "id": "96cbdab6",
   "metadata": {},
   "outputs": [],
   "source": []
  }
 ],
 "metadata": {
  "kernelspec": {
   "display_name": "Python 3 (ipykernel)",
   "language": "python",
   "name": "python3"
  },
  "language_info": {
   "codemirror_mode": {
    "name": "ipython",
    "version": 3
   },
   "file_extension": ".py",
   "mimetype": "text/x-python",
   "name": "python",
   "nbconvert_exporter": "python",
   "pygments_lexer": "ipython3",
   "version": "3.11.5"
  }
 },
 "nbformat": 4,
 "nbformat_minor": 5
}
